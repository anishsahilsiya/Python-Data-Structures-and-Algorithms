{
 "cells": [
  {
   "cell_type": "code",
   "execution_count": 1,
   "id": "0c99cad5",
   "metadata": {},
   "outputs": [],
   "source": [
    "# Uses lists instead of your own Stack class.\n",
    "stack1 = []\n",
    "stack2 = []"
   ]
  },
  {
   "cell_type": "code",
   "execution_count": 2,
   "id": "d86522d6",
   "metadata": {},
   "outputs": [],
   "source": [
    "class Queue2Stacks(object):\n",
    "    \n",
    "    def __init__(self):\n",
    "        \n",
    "        # Two Stacks\n",
    "        self.stack1 = []\n",
    "        self.stack2 = []\n",
    "     \n",
    "    def enqueue(self,element):\n",
    "        \n",
    "        for i in range(len(self.stack1)):\n",
    "            self.stack2.append(self.stack1.pop())\n",
    "            \n",
    "        self.stack2.append(element)\n",
    "        \n",
    "        for i in range(len(self.stack2)):\n",
    "            self.stack1.append(self.stack2.pop())\n",
    "        \n",
    "        \n",
    "    def dequeue(self):\n",
    "        \n",
    "        return self.stack1.pop()"
   ]
  },
  {
   "cell_type": "code",
   "execution_count": 3,
   "id": "0648657e",
   "metadata": {},
   "outputs": [
    {
     "name": "stdout",
     "output_type": "stream",
     "text": [
      "None\n",
      "None\n",
      "None\n",
      "None\n",
      "None\n"
     ]
    }
   ],
   "source": [
    "\"\"\"\n",
    "RUN THIS CELL TO CHECK THAT YOUR SOLUTION OUTPUT MAKES SENSE AND BEHAVES AS A QUEUE\n",
    "\"\"\"\n",
    "q = Queue2Stacks()\n",
    "\n",
    "for i in range(5):\n",
    "    q.enqueue(i)\n",
    "    \n",
    "for i in range(5):\n",
    "    print(q.dequeue())"
   ]
  },
  {
   "cell_type": "code",
   "execution_count": null,
   "id": "1a8bb9f6",
   "metadata": {},
   "outputs": [],
   "source": []
  }
 ],
 "metadata": {
  "kernelspec": {
   "display_name": "Python 3 (ipykernel)",
   "language": "python",
   "name": "python3"
  },
  "language_info": {
   "codemirror_mode": {
    "name": "ipython",
    "version": 3
   },
   "file_extension": ".py",
   "mimetype": "text/x-python",
   "name": "python",
   "nbconvert_exporter": "python",
   "pygments_lexer": "ipython3",
   "version": "3.9.12"
  }
 },
 "nbformat": 4,
 "nbformat_minor": 5
}
