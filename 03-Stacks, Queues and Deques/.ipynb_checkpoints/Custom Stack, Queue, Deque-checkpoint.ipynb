{
 "cells": [
  {
   "cell_type": "code",
   "execution_count": 9,
   "id": "40ace5f9",
   "metadata": {},
   "outputs": [],
   "source": [
    "class Stack():\n",
    "    \n",
    "    def __init__(self):    \n",
    "        self.stack = []\n",
    "    \n",
    "    def isEmpty(self):\n",
    "        return self.stack == []\n",
    "    \n",
    "    def size(self):\n",
    "        return len(self.stack)\n",
    "    \n",
    "    def push(self, item):\n",
    "        self.stack.append(item)\n",
    "    \n",
    "    def pop(self):\n",
    "        return self.stack.pop()\n",
    "    \n",
    "    def peek(self):\n",
    "        return self.stack[-1]\n",
    "    "
   ]
  },
  {
   "cell_type": "code",
   "execution_count": 23,
   "id": "95d5373f",
   "metadata": {},
   "outputs": [],
   "source": [
    "class Queue():\n",
    "    \n",
    "    def __init__(self):\n",
    "        self.queue = []\n",
    "        \n",
    "    def isEmpty(self):\n",
    "        return self.queue == []\n",
    "    \n",
    "    def size(self):\n",
    "        return len(self.queue)\n",
    "    \n",
    "    def enqueue(self, item):\n",
    "        self.queue.insert(0, item)\n",
    "    \n",
    "    def dequeue(self):\n",
    "        return self.queue.pop()\n",
    "    "
   ]
  },
  {
   "cell_type": "code",
   "execution_count": 32,
   "id": "c184e4cf",
   "metadata": {},
   "outputs": [],
   "source": [
    "class Deque():\n",
    "    \n",
    "    def __init__(self):\n",
    "        self.deque = []\n",
    "        \n",
    "    def isEmpty(self):\n",
    "        return self.deque == []\n",
    "    \n",
    "    def size(self):\n",
    "        return len(self.deque)\n",
    "    \n",
    "    def addFront(self, item):\n",
    "        self.deque.append(item)\n",
    "        \n",
    "    def addRear(self, item):\n",
    "        self.deque.insert(0, item)\n",
    "        \n",
    "    def removeFront(self):\n",
    "        return self.deque.pop()\n",
    "    \n",
    "    def removeRear(self):\n",
    "        return self.deque.pop(0)\n",
    "        "
   ]
  }
 ],
 "metadata": {
  "kernelspec": {
   "display_name": "Python 3 (ipykernel)",
   "language": "python",
   "name": "python3"
  },
  "language_info": {
   "codemirror_mode": {
    "name": "ipython",
    "version": 3
   },
   "file_extension": ".py",
   "mimetype": "text/x-python",
   "name": "python",
   "nbconvert_exporter": "python",
   "pygments_lexer": "ipython3",
   "version": "3.9.12"
  }
 },
 "nbformat": 4,
 "nbformat_minor": 5
}
